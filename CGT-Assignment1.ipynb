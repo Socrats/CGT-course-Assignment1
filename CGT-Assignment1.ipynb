{
 "cells": [
  {
   "cell_type": "markdown",
   "metadata": {},
   "source": [
    "# Assignemnt 1 for the CGT/LD course"
   ]
  },
  {
   "cell_type": "code",
   "execution_count": 1,
   "metadata": {},
   "outputs": [],
   "source": [
    "import numpy as np\n",
    "# Plotting libraries\n",
    "import matplotlib.pylab as plt\n",
    "# Magic function to make matplotlib inline; other style specs must come AFTER\n",
    "%matplotlib inline\n",
    "# This enables high resolution PNGs.\n",
    "%config InlineBackend.figure_formats = {'png', 'svg'}"
   ]
  },
  {
   "cell_type": "markdown",
   "metadata": {},
   "source": [
    "## Execise 1.3 : Find the set of Nash equilibria (pure and mixed) in the Hawk-Dove game"
   ]
  },
  {
   "cell_type": "markdown",
   "metadata": {},
   "source": [
    "### Example"
   ]
  },
  {
   "cell_type": "code",
   "execution_count": 2,
   "metadata": {},
   "outputs": [],
   "source": [
    "import nashpy as nash"
   ]
  },
  {
   "cell_type": "code",
   "execution_count": 3,
   "metadata": {},
   "outputs": [],
   "source": [
    "def hawk_dove_equilibria(V, D, T):\n",
    "    \"\"\"\n",
    "    This function returns the Nash equilibria of\n",
    "    a Hawk-Dove game with its payoff matrix being a\n",
    "    function of V, D and T.\n",
    "    \"\"\"\n",
    "    # payoff matrix for the row player\n",
    "    hd_matrix_row = np.array([\n",
    "        [ (V-D)/2, V],\n",
    "        [ 0      , (V/2)-T],\n",
    "    ])\n",
    "    # payoff matrix for the column player\n",
    "    hd_matrix_col = hd_matrix_row.T\n",
    "    \n",
    "    # Create game\n",
    "    game = nash.Game(hd_matrix_row, hd_matrix_col)\n",
    "    \n",
    "    # Find all equilibria\n",
    "    return list(game.support_enumeration())"
   ]
  },
  {
   "cell_type": "markdown",
   "metadata": {},
   "source": [
    "#### Find Nash equilibria"
   ]
  },
  {
   "cell_type": "markdown",
   "metadata": {},
   "source": [
    "Comment this section if you do not have ipywidgets installed!"
   ]
  },
  {
   "cell_type": "code",
   "execution_count": 4,
   "metadata": {},
   "outputs": [],
   "source": [
    "from ipywidgets import interact, FloatSlider"
   ]
  },
  {
   "cell_type": "code",
   "execution_count": 5,
   "metadata": {},
   "outputs": [
    {
     "data": {
      "application/vnd.jupyter.widget-view+json": {
       "model_id": "e91a3f9b26b34b068040e9f4d590000b",
       "version_major": 2,
       "version_minor": 0
      },
      "text/plain": [
       "interactive(children=(FloatSlider(value=2.0, description='V', max=10.0, min=-10.0), FloatSlider(value=3.0, des…"
      ]
     },
     "metadata": {},
     "output_type": "display_data"
    }
   ],
   "source": [
    "@interact(V=FloatSlider(min=-10, max=10, step=0.1, value=2), \n",
    "          D=FloatSlider(min=-10, max=10, step=0.1, value=3), \n",
    "          T=FloatSlider(min=-10, max=10, step=0.1, value=1))\n",
    "def show_equilibria(V=2, D=3, T=1):\n",
    "    return hawk_dove_equilibria(V, D, T)"
   ]
  },
  {
   "cell_type": "code",
   "execution_count": null,
   "metadata": {},
   "outputs": [],
   "source": []
  }
 ],
 "metadata": {
  "kernelspec": {
   "display_name": "Python [conda env:cgt_course]",
   "language": "python",
   "name": "conda-env-cgt_course-py"
  },
  "language_info": {
   "codemirror_mode": {
    "name": "ipython",
    "version": 3
   },
   "file_extension": ".py",
   "mimetype": "text/x-python",
   "name": "python",
   "nbconvert_exporter": "python",
   "pygments_lexer": "ipython3",
   "version": "3.9.7"
  }
 },
 "nbformat": 4,
 "nbformat_minor": 4
}
